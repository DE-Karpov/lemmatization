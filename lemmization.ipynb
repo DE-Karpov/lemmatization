{
 "cells": [
  {
   "cell_type": "code",
   "execution_count": 2,
   "metadata": {},
   "outputs": [],
   "source": [
    "import pymorphy2\n",
    "import codecs\n",
    "import string\n",
    "import re\n",
    "import nltk\n",
    "import ssl\n",
    "\n",
    "from bs4 import BeautifulSoup\n",
    "from nltk import word_tokenize\n",
    "from nltk.corpus import stopwords\n",
    "from nltk.stem import WordNetLemmatizer"
   ]
  },
  {
   "cell_type": "code",
   "execution_count": 3,
   "metadata": {},
   "outputs": [
    {
     "output_type": "stream",
     "name": "stderr",
     "text": [
      "[nltk_data] Error loading stopwords: <urlopen error [SSL:\n",
      "[nltk_data]     CERTIFICATE_VERIFY_FAILED] certificate verify failed:\n",
      "[nltk_data]     unable to get local issuer certificate (_ssl.c:1123)>\n",
      "[nltk_data] Error loading punkt: <urlopen error [SSL:\n",
      "[nltk_data]     CERTIFICATE_VERIFY_FAILED] certificate verify failed:\n",
      "[nltk_data]     unable to get local issuer certificate (_ssl.c:1123)>\n",
      "[nltk_data] Error loading wordnet: <urlopen error [SSL:\n",
      "[nltk_data]     CERTIFICATE_VERIFY_FAILED] certificate verify failed:\n",
      "[nltk_data]     unable to get local issuer certificate (_ssl.c:1123)>\n"
     ]
    },
    {
     "output_type": "execute_result",
     "data": {
      "text/plain": [
       "False"
      ]
     },
     "metadata": {},
     "execution_count": 3
    }
   ],
   "source": [
    "nltk.download('stopwords')\n",
    "nltk.download('punkt')\n",
    "nltk.download('wordnet')"
   ]
  },
  {
   "cell_type": "code",
   "execution_count": 4,
   "metadata": {},
   "outputs": [],
   "source": [
    "try:\n",
    "    _create_unverified_https_context = ssl._create_unverified_context\n",
    "except AttributeError:\n",
    "    pass\n",
    "else:\n",
    "    ssl._create_default_https_context = _create_unverified_https_context\n",
    "\n",
    "lemmatizer = WordNetLemmatizer()\n",
    "analyzer = pymorphy2.MorphAnalyzer()\n",
    "\n",
    "MARKS = [',', '.', ':', '?', '«', '»', '-', '(', ')', '!', '\\'', \"—\", ';', \"”\", \"...\", \"\\'\\'\", \"/**//**/\",\n",
    "         \"“\", \"„\", \"–\"]\n",
    "\n"
   ]
  },
  {
   "cell_type": "code",
   "execution_count": 5,
   "metadata": {},
   "outputs": [],
   "source": [
    "def parse_words_from_html(file):\n",
    "    html_page = codecs.open(f\"/Users/daniilkarpov/Desktop/Github/crawler/src/main/resources/crawler4j/{file}.txt\", 'r', 'utf-8')\n",
    "    \n",
    "    soup = BeautifulSoup(html_page.read(), features='html.parser')\n",
    "    for script in soup(\n",
    "            [\"script\", \"style\", \"meta\", \"link\", \"span\", \"a\", \"time\", \"button\", \"li\", \"dt\", \"h2\", \"h3\", \"legend\"]):\n",
    "        script.extract()  \n",
    "\n",
    "    text = soup.get_text()\n",
    "    lines = (line.strip() for line in text.splitlines())\n",
    "    chunks = (phrase.strip() for line in lines for phrase in line.split(\"  \"))\n",
    "    text = '\\n'.join(chunk for chunk in chunks if chunk)\n",
    "    return text.split()"
   ]
  },
  {
   "cell_type": "code",
   "execution_count": 12,
   "metadata": {},
   "outputs": [],
   "source": [
    "def tokenize():\n",
    "    words = []\n",
    "    with open(\"/Users/daniilkarpov/Desktop/Github/crawler/src/main/resources/crawler4j/index.txt\", \"r\") as index:\n",
    "        lines = index.readlines()\n",
    "        numbers = [line[: line.find(\" \")] for line in lines]\n",
    "        for num in numbers:\n",
    "            words.extend(parse_words_from_html(num))\n",
    "        with open(\"lemmas.txt\", \"w\", encoding=\"utf-8\") as file:\n",
    "            filtered_words = filter_words(words)\n",
    "            for word in filtered_words:\n",
    "                if len(word) > 2:\n",
    "                    file.write(word + '\\n')"
   ]
  },
  {
   "cell_type": "code",
   "execution_count": 7,
   "metadata": {},
   "outputs": [],
   "source": [
    "def filter_words(words):\n",
    "    words = list(filter(lambda word: (word not in string.punctuation) and (word not in MARKS), words))\n",
    "    filtered_words = []\n",
    "    for word in words:\n",
    "        filtered_words.append(\"\".join(filter(lambda char: char not in MARKS, word)))\n",
    "    stop_words_rus = set(stopwords.words('russian'))\n",
    "    stop_words_eng = set(stopwords.words('english'))\n",
    "    filtered_words = [w.lower() for w in filtered_words if w not in stop_words_rus]\n",
    "    filtered_words = [w.lower() for w in filtered_words if w not in stop_words_eng]\n",
    "    filtered_words = filter(lambda word: word.isalpha(), filtered_words)\n",
    "    return filtered_words"
   ]
  },
  {
   "cell_type": "code",
   "execution_count": 13,
   "metadata": {},
   "outputs": [],
   "source": [
    "def lemmatize():\n",
    "    with open(\"lemmas.txt\", \"r\", encoding=\"utf-8\") as words_list:\n",
    "        words = words_list.readlines()\n",
    "    lem_dict = {}\n",
    "        \n",
    "    rus_filter = re.compile(\"[а-яА-Я]+\")\n",
    "    eng_filter = re.compile(\"[a-zA-Z]+\")\n",
    "    rus_words = [w.strip() for w in filter(rus_filter.match, words)]\n",
    "    eng_words = [w.strip() for w in filter(eng_filter.match, words)]\n",
    "    for word in rus_words:\n",
    "        normal_form = get_normal_form_rus(word)\n",
    "        if normal_form:\n",
    "            if normal_form not in lem_dict.keys():\n",
    "                lem_dict[normal_form] = [word.strip()]\n",
    "            else:\n",
    "                if(word not in lem_dict[normal_form]):\n",
    "                    lem_dict[normal_form].append(word.strip())\n",
    "    for word in eng_words:\n",
    "        normal_form = get_normal_form_eng(word)\n",
    "        if normal_form:\n",
    "            if normal_form not in lem_dict.keys():\n",
    "                lem_dict[normal_form] = [word.strip()]\n",
    "            else:\n",
    "                if(word not in lem_dict[normal_form]):\n",
    "                    lem_dict[normal_form].append(word.strip())\n",
    "\n",
    "    file = open(\"lemmasAndTokens.txt\", \"w\", encoding=\"utf-8\")\n",
    "    for word, tokens in lem_dict.items():\n",
    "        file.write(f\"{word}:\")\n",
    "        [file.write(f\" {tok}\") for tok in set(tokens)]\n",
    "        file.write(\"\\n\")\n",
    "    file.close()"
   ]
  },
  {
   "cell_type": "code",
   "execution_count": 9,
   "metadata": {
    "tags": []
   },
   "outputs": [],
   "source": [
    "def get_normal_form_rus(word):\n",
    "    return analyzer.parse(word)[0].normal_form"
   ]
  },
  {
   "cell_type": "code",
   "execution_count": 10,
   "metadata": {},
   "outputs": [],
   "source": [
    "def get_normal_form_eng(word):\n",
    "    return lemmatizer.lemmatize(word)"
   ]
  },
  {
   "cell_type": "code",
   "execution_count": 14,
   "metadata": {},
   "outputs": [],
   "source": [
    "tokenize()\n",
    "lemmatize()"
   ]
  },
  {
   "cell_type": "raw",
   "metadata": {},
   "source": [
    "https://towardsdatascience.com/natural-language-processing-feature-engineering-using-tf-idf-e8b9d00e7e76"
   ]
  },
  {
   "cell_type": "raw",
   "metadata": {},
   "source": [
    "def computeIDF(documents):\n",
    "    import math\n",
    "    N = len(documents)\n",
    "    \n",
    "    idfDict = dict.fromkeys(documents[0].keys(), 0)\n",
    "    for document in documents:\n",
    "        for word, val in document.items():\n",
    "            if val > 0:\n",
    "                idfDict[word] += 1\n",
    "    \n",
    "    for word, val in idfDict.items():\n",
    "        idfDict[word] = math.log(N / float(val))\n",
    "    return idfDict"
   ]
  },
  {
   "cell_type": "raw",
   "metadata": {},
   "source": [
    "IDF (inverse document frequency — обратная частота документа) — инверсия частоты, с которой некоторое слово встречается в документах коллекции. Основоположником данной концепции является Карен Спарк Джонс[1]. Учёт IDF уменьшает вес широкоупотребительных слов. Для каждого уникального слова в пределах конкретной коллекции документов существует только одно значение IDF.\n",
    "\n",
    "IDF термина а = логарифм(Общее количество документов / Количество документов, в которых встречается термин а)"
   ]
  },
  {
   "cell_type": "raw",
   "metadata": {},
   "source": [
    "import collections\n",
    "def compute_tf(text, tokens_size):\n",
    "#На вход берем текст в виде списка (list) слов\n",
    "    #Считаем частотность всех терминов во входном массиве с помощью \n",
    "    #метода Counter библиотеки collections\n",
    "    tf_text = collections.Counter(text)\n",
    "    for i in tf_text:\n",
    "        #для каждого слова в tf_text считаем TF путём деления\n",
    "        #встречаемости слова на общее количество слов в тексте\n",
    "        tf_text[i] = tf_text[i]/float(tokens_size)\n",
    "#        print(tf_text[i])\n",
    "    #возвращаем объект типа Counter c TF всех слов текста\n",
    "    return tf_text"
   ]
  }
 ],
 "metadata": {
  "kernelspec": {
   "display_name": "Python 3",
   "language": "python",
   "name": "python3"
  },
  "language_info": {
   "codemirror_mode": {
    "name": "ipython",
    "version": 3
   },
   "file_extension": ".py",
   "mimetype": "text/x-python",
   "name": "python",
   "nbconvert_exporter": "python",
   "pygments_lexer": "ipython3",
   "version": "3.9.2-final"
  }
 },
 "nbformat": 4,
 "nbformat_minor": 4
}